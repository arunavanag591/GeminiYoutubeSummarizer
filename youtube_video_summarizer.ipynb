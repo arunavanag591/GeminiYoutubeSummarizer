{
 "cells": [
  {
   "cell_type": "code",
   "execution_count": null,
   "metadata": {},
   "outputs": [],
   "source": [
    "import pathlib\n",
    "import textwrap\n",
    "import google.generativeai as genai\n",
    "from youtube_transcript_api import YouTubeTranscriptApi\n",
    "from google.colab import userdata"
   ]
  },
  {
   "cell_type": "code",
   "execution_count": null,
   "metadata": {},
   "outputs": [],
   "source": [
    "def to_markdown(text):\n",
    "  text = text.replace('•', '  *')\n",
    "  return Markdown(textwrap.indent(text, '> ', predicate=lambda _: True))\n",
    "\n",
    "def get_transcript(youtube_link, language_code='en'):\n",
    "    if \"watch?v=\" in youtube_link:\n",
    "        video_id = youtube_link.split(\"watch?v=\")[1]\n",
    "    elif \"youtu.be/\" in youtube_link:\n",
    "        video_id = youtube_link.split(\"youtu.be/\")[1]\n",
    "    else:\n",
    "        return \"Invalid YouTube link\"\n",
    "\n",
    "    try:\n",
    "        transcript_list = YouTubeTranscriptApi.get_transcript(video_id, languages=[language_code])\n",
    "        transcript = \"\\n\".join([item['text'] for item in transcript_list])\n",
    "        return transcript\n",
    "    except Exception as e:\n",
    "        return str(e)\n",
    "\n",
    "\n",
    "genai.configure(api_key=YOUR_API_KEY_HERE)\n",
    "\n",
    "model = genai.GenerativeModel('gemini-pro')\n",
    "\n",
    "link = \"https://youtu.be/esfM1w2b0dQ\" ### THIS WHERE YOU NEED TO PUT THE YOUTUBE LINK <<<<\n",
    "\n",
    "trans = get_transcript(link)\n",
    "# print(get_transcript(link))"
   ]
  },
  {
   "cell_type": "code",
   "execution_count": null,
   "metadata": {},
   "outputs": [],
   "source": [
    "response = model.generate_content(\"summarize the following :\" + str(trans)) ### This is same as chatgpt prompt change it as you need your summary\n",
    "to_markdown(response.text)"
   ]
  }
 ],
 "metadata": {
  "kernelspec": {
   "display_name": "vscode38kernel",
   "language": "python",
   "name": "pywork38"
  },
  "language_info": {
   "name": "python",
   "version": "3.8.10"
  }
 },
 "nbformat": 4,
 "nbformat_minor": 2
}
