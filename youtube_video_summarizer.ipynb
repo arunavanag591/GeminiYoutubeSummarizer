{
 "cells": [
  {
   "cell_type": "code",
   "execution_count": 5,
   "metadata": {},
   "outputs": [],
   "source": [
    "import pathlib\n",
    "import textwrap\n",
    "\n",
    "import google.generativeai as genai\n",
    "\n",
    "from IPython.display import display\n",
    "from IPython.display import Markdown\n",
    "\n",
    "from youtube_transcript_api import YouTubeTranscriptApi\n"
   ]
  },
  {
   "cell_type": "code",
   "execution_count": 6,
   "metadata": {},
   "outputs": [],
   "source": [
    "def to_markdown(text):\n",
    "  text = text.replace('•', '  *')\n",
    "  return Markdown(textwrap.indent(text, '> ', predicate=lambda _: True))\n",
    "\n",
    "def get_transcript(youtube_link, language_code='en'):\n",
    "    if \"watch?v=\" in youtube_link:\n",
    "        video_id = youtube_link.split(\"watch?v=\")[1]\n",
    "    elif \"youtu.be/\" in youtube_link:\n",
    "        video_id = youtube_link.split(\"youtu.be/\")[1]\n",
    "    else:\n",
    "        return \"Invalid YouTube link\"\n",
    "\n",
    "    try:\n",
    "        transcript_list = YouTubeTranscriptApi.get_transcript(video_id, languages=[language_code])\n",
    "        transcript = \"\\n\".join([item['text'] for item in transcript_list])\n",
    "        return transcript\n",
    "    except Exception as e:\n",
    "        return str(e)\n",
    "\n",
    "\n",
    "genai.configure(api_key=\"YOUR_API_KEY_HERE\")\n",
    "\n",
    "model = genai.GenerativeModel('gemini-pro')\n",
    "\n",
    "link = \"https://youtu.be/esfM1w2b0dQ\" ### THIS WHERE YOU NEED TO PUT THE YOUTUBE LINK <<<<\n",
    "\n",
    "trans = get_transcript(link)\n",
    "# print(get_transcript(link))"
   ]
  },
  {
   "cell_type": "code",
   "execution_count": 7,
   "metadata": {},
   "outputs": [
    {
     "data": {
      "text/markdown": [
       "> Alex Honnold, a renowned rock climber, found a new challenge to contribute to the world after conquering El Capitan. His focus turned to unclimbed walls and places where climate research has been minimal. In particular, the Ingmikortilaq Wall in Greenland captivated him. Despite the treacherous conditions and limited knowledge of the rock formation, Honnold assembled a team of expert climbers to join him in this daring expedition. The team recognized the risks involved but were determined to make a significant impact through research and exploration. As they prepared to face the daunting wall, they encountered harsh weather conditions, adding to the already perilous nature of the climb."
      ],
      "text/plain": [
       "<IPython.core.display.Markdown object>"
      ]
     },
     "execution_count": 7,
     "metadata": {},
     "output_type": "execute_result"
    }
   ],
   "source": [
    "response = model.generate_content(\"summarize the following :\" + str(trans)) ### This is same as chatgpt prompt change it as you need your summary\n",
    "to_markdown(response.text)"
   ]
  },
  {
   "cell_type": "code",
   "execution_count": null,
   "metadata": {},
   "outputs": [],
   "source": []
  }
 ],
 "metadata": {
  "kernelspec": {
   "display_name": "an-vscode",
   "language": "python",
   "name": "pyan"
  },
  "language_info": {
   "codemirror_mode": {
    "name": "ipython",
    "version": 3
   },
   "file_extension": ".py",
   "mimetype": "text/x-python",
   "name": "python",
   "nbconvert_exporter": "python",
   "pygments_lexer": "ipython3",
   "version": "3.10.12"
  }
 },
 "nbformat": 4,
 "nbformat_minor": 2
}
